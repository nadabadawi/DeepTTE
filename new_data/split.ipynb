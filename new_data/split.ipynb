{
 "cells": [
  {
   "cell_type": "code",
   "execution_count": 2,
   "metadata": {},
   "outputs": [
    {
     "name": "stdout",
     "output_type": "stream",
     "text": [
      "Segment 0 saved to new_mapped_00\n",
      "Segment 1 saved to new_mapped_01\n",
      "Segment 2 saved to new_mapped_02\n",
      "Segment 3 saved to new_mapped_03\n"
     ]
    }
   ],
   "source": [
    "# Function to split a large text file into smaller files\n",
    "def split_text_file(file_path, lines_per_segment=3600):\n",
    "    # Open the input file for reading\n",
    "    with open(file_path, 'r') as infile:\n",
    "        segment_number = 0  # Start with the first segment\n",
    "        lines_in_current_segment = 0  # Counter for the current segment\n",
    "        \n",
    "        # Open a new output file for the first segment\n",
    "        output_file_path = f\"{file_path.split('.')[0]}_0{segment_number}\"\n",
    "        outfile = open(output_file_path, 'w')\n",
    "        \n",
    "        for line in infile:\n",
    "            # Write the line to the current segment file\n",
    "            outfile.write(line)\n",
    "            lines_in_current_segment += 1\n",
    "            \n",
    "            # If we've reached the limit of lines for this segment, open a new file\n",
    "            if lines_in_current_segment >= lines_per_segment:\n",
    "                outfile.close()  # Close the current output file\n",
    "                print(f\"Segment {segment_number} saved to {output_file_path}\")\n",
    "                \n",
    "                # Increment the segment number and reset the line counter\n",
    "                segment_number += 1\n",
    "                lines_in_current_segment = 0\n",
    "                \n",
    "                # Open a new output file for the next segment\n",
    "                output_file_path = f\"{file_path.split('.')[0]}_0{segment_number}\"\n",
    "                outfile = open(output_file_path, 'w')\n",
    "        \n",
    "        # Make sure to close the last output file\n",
    "        outfile.close()\n",
    "        print(f\"Segment {segment_number} saved to {output_file_path}\")\n",
    "\n",
    "# Example usage\n",
    "input_file_path = \"new_mapped\"  # Replace with your plain text file name\n",
    "split_text_file(input_file_path, lines_per_segment=3600)\n"
   ]
  }
 ],
 "metadata": {
  "kernelspec": {
   "display_name": "nada_tries",
   "language": "python",
   "name": "python3"
  },
  "language_info": {
   "codemirror_mode": {
    "name": "ipython",
    "version": 3
   },
   "file_extension": ".py",
   "mimetype": "text/x-python",
   "name": "python",
   "nbconvert_exporter": "python",
   "pygments_lexer": "ipython3",
   "version": "3.11.7"
  }
 },
 "nbformat": 4,
 "nbformat_minor": 2
}
